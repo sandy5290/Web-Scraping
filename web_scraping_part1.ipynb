{
 "cells": [
  {
   "cell_type": "code",
   "execution_count": 63,
   "metadata": {},
   "outputs": [],
   "source": [
    "import requests\n",
    "from bs4 import BeautifulSoup\n",
    "import time\n",
    "import pandas as pd\n",
    "import string"
   ]
  },
  {
   "cell_type": "code",
   "execution_count": 2,
   "metadata": {},
   "outputs": [],
   "source": [
    "action_url ='https://www.imdb.com/search/title?title_type=feature&genres=action&explore=genres&ref_=adv_prv&start='\n",
    "romace_url ='https://www.imdb.com/search/title?title_type=feature&genres=Romance&explore=genres&ref_=adv_prv&start='\n",
    "history_url='https://www.imdb.com/search/title?title_type=feature&genres=History&explore=genres&ref_=adv_prv&start='"
   ]
  },
  {
   "cell_type": "code",
   "execution_count": 3,
   "metadata": {},
   "outputs": [],
   "source": [
    "headers = {'User-Agent': 'Mozilla/5.0 (Macintosh; Intel Mac OS X 10_10_1) AppleWebKit/537.36 (KHTML, like Gecko) Chrome/39.0.2171.95 Safari/537.36'}\n",
    "\n",
    "def image_links(movie_url,img_url,genre):\n",
    "    var = 1\n",
    "    while True:\n",
    "        time.sleep(5)\n",
    "        img_link = requests.get(movie_url+str(var),headers=headers)\n",
    "        source = BeautifulSoup(img_link.text, 'html.parser')\n",
    "        links = source.find_all('div',class_=\"lister-item-image float-left\")\n",
    "        genres = source.find_all('span',class_=\"genre\")\n",
    "        for index,lnk in enumerate(links):\n",
    "            img_tag = lnk.find(\"img\")\n",
    "            Image_link = img_tag.get(\"loadlate\")\n",
    "            img_url.append(Image_link)\n",
    "        for index,gnr in enumerate(genres):\n",
    "            Genre = gnr.get_text().replace(\"\\n\",\"\")\n",
    "            genre.append(Genre)\n",
    "        var += 50\n",
    "        if var > 650:\n",
    "            break\n",
    "        \n",
    "    "
   ]
  },
  {
   "cell_type": "code",
   "execution_count": 4,
   "metadata": {},
   "outputs": [],
   "source": [
    "act_url=[]\n",
    "act_genre=[]\n",
    "hist_url=[]\n",
    "hist_genre=[]\n",
    "rom_url=[]\n",
    "rom_genre=[]\n",
    "\n",
    "image_links(action_url,act_url,act_genre)"
   ]
  },
  {
   "cell_type": "code",
   "execution_count": 5,
   "metadata": {},
   "outputs": [],
   "source": [
    "image_links(history_url,hist_url,hist_genre)"
   ]
  },
  {
   "cell_type": "code",
   "execution_count": 6,
   "metadata": {},
   "outputs": [],
   "source": [
    "image_links(romace_url,rom_url,rom_genre)"
   ]
  },
  {
   "cell_type": "code",
   "execution_count": 8,
   "metadata": {},
   "outputs": [
    {
     "data": {
      "text/plain": [
       "650"
      ]
     },
     "execution_count": 8,
     "metadata": {},
     "output_type": "execute_result"
    }
   ],
   "source": [
    "len(act_url)"
   ]
  },
  {
   "cell_type": "code",
   "execution_count": 9,
   "metadata": {},
   "outputs": [
    {
     "data": {
      "text/plain": [
       "650"
      ]
     },
     "execution_count": 9,
     "metadata": {},
     "output_type": "execute_result"
    }
   ],
   "source": [
    "len(act_genre)"
   ]
  },
  {
   "cell_type": "code",
   "execution_count": 20,
   "metadata": {},
   "outputs": [],
   "source": [
    "act_df = pd.DataFrame({'Image_url':act_url,'Genre':act_genre})\n",
    "hist_df = pd.DataFrame({'Image_url':hist_url,'Genre':hist_genre})\n",
    "rom_df = pd.DataFrame({'Image_url':rom_url,'Genre':rom_genre})"
   ]
  },
  {
   "cell_type": "code",
   "execution_count": 100,
   "metadata": {},
   "outputs": [],
   "source": [
    "movies_df = act_df.append([hist_df,rom_df])"
   ]
  },
  {
   "cell_type": "code",
   "execution_count": 101,
   "metadata": {},
   "outputs": [],
   "source": [
    "movies_df.reset_index(drop=True,inplace=True)"
   ]
  },
  {
   "cell_type": "code",
   "execution_count": 102,
   "metadata": {},
   "outputs": [],
   "source": [
    "movies_df.drop_duplicates(inplace=True)"
   ]
  },
  {
   "cell_type": "code",
   "execution_count": 103,
   "metadata": {},
   "outputs": [
    {
     "data": {
      "text/html": [
       "<div>\n",
       "<style scoped>\n",
       "    .dataframe tbody tr th:only-of-type {\n",
       "        vertical-align: middle;\n",
       "    }\n",
       "\n",
       "    .dataframe tbody tr th {\n",
       "        vertical-align: top;\n",
       "    }\n",
       "\n",
       "    .dataframe thead th {\n",
       "        text-align: right;\n",
       "    }\n",
       "</style>\n",
       "<table border=\"1\" class=\"dataframe\">\n",
       "  <thead>\n",
       "    <tr style=\"text-align: right;\">\n",
       "      <th></th>\n",
       "      <th>Image_url</th>\n",
       "      <th>Genre</th>\n",
       "    </tr>\n",
       "  </thead>\n",
       "  <tbody>\n",
       "    <tr>\n",
       "      <th>0</th>\n",
       "      <td>https://m.media-amazon.com/images/M/MV5BMTE0YW...</td>\n",
       "      <td>Action, Adventure, Sci-Fi</td>\n",
       "    </tr>\n",
       "    <tr>\n",
       "      <th>1</th>\n",
       "      <td>https://m.media-amazon.com/images/M/MV5BNzVhMj...</td>\n",
       "      <td>Action, Adventure, Romance</td>\n",
       "    </tr>\n",
       "    <tr>\n",
       "      <th>2</th>\n",
       "      <td>https://m.media-amazon.com/images/M/MV5BMjMwND...</td>\n",
       "      <td>Animation, Action, Adventure</td>\n",
       "    </tr>\n",
       "    <tr>\n",
       "      <th>3</th>\n",
       "      <td>https://m.media-amazon.com/images/M/MV5BNGZiMz...</td>\n",
       "      <td>Action, Adventure, Fantasy</td>\n",
       "    </tr>\n",
       "    <tr>\n",
       "      <th>4</th>\n",
       "      <td>https://m.media-amazon.com/images/M/MV5BOTk5OD...</td>\n",
       "      <td>Action, Adventure, Fantasy</td>\n",
       "    </tr>\n",
       "  </tbody>\n",
       "</table>\n",
       "</div>"
      ],
      "text/plain": [
       "                                           Image_url  \\\n",
       "0  https://m.media-amazon.com/images/M/MV5BMTE0YW...   \n",
       "1  https://m.media-amazon.com/images/M/MV5BNzVhMj...   \n",
       "2  https://m.media-amazon.com/images/M/MV5BMjMwND...   \n",
       "3  https://m.media-amazon.com/images/M/MV5BNGZiMz...   \n",
       "4  https://m.media-amazon.com/images/M/MV5BOTk5OD...   \n",
       "\n",
       "                                      Genre  \n",
       "0     Action, Adventure, Sci-Fi              \n",
       "1    Action, Adventure, Romance              \n",
       "2  Animation, Action, Adventure              \n",
       "3    Action, Adventure, Fantasy              \n",
       "4    Action, Adventure, Fantasy              "
      ]
     },
     "execution_count": 103,
     "metadata": {},
     "output_type": "execute_result"
    }
   ],
   "source": [
    "movies_df.head()"
   ]
  },
  {
   "cell_type": "code",
   "execution_count": 108,
   "metadata": {},
   "outputs": [],
   "source": [
    "movies_df.to_csv('movie_images.csv',sep=',',index=False)"
   ]
  },
  {
   "cell_type": "code",
   "execution_count": 105,
   "metadata": {},
   "outputs": [],
   "source": [
    "movies_df['Genre'] = movies_df['Genre'].apply(lambda x :''.join(x.split()))"
   ]
  },
  {
   "cell_type": "code",
   "execution_count": 107,
   "metadata": {},
   "outputs": [
    {
     "data": {
      "text/plain": [
       "'Action,Adventure,Sci-Fi'"
      ]
     },
     "execution_count": 107,
     "metadata": {},
     "output_type": "execute_result"
    }
   ],
   "source": [
    "movies_df['Genre']"
   ]
  },
  {
   "cell_type": "code",
   "execution_count": null,
   "metadata": {},
   "outputs": [],
   "source": []
  }
 ],
 "metadata": {
  "kernelspec": {
   "display_name": "Python 3",
   "language": "python",
   "name": "python3"
  },
  "language_info": {
   "codemirror_mode": {
    "name": "ipython",
    "version": 3
   },
   "file_extension": ".py",
   "mimetype": "text/x-python",
   "name": "python",
   "nbconvert_exporter": "python",
   "pygments_lexer": "ipython3",
   "version": "3.7.2"
  }
 },
 "nbformat": 4,
 "nbformat_minor": 2
}
